{
 "cells": [
  {
   "cell_type": "code",
   "execution_count": 4,
   "id": "b6d2ccd4",
   "metadata": {},
   "outputs": [
    {
     "name": "stdout",
     "output_type": "stream",
     "text": [
      "range= 260\n",
      "dz= 2.9885057471264367 micrometros en  88 stacks\n"
     ]
    }
   ],
   "source": [
    "import numpy as np\n",
    "import matplotlib.pyplot as plt\n",
    "from PIL import Image\n",
    "from glob import glob\n",
    "%matplotlib inline\n",
    "#Autor: Enzo Gaggioli, e.l.gaggioli@gmail.com. IFIBA-CONICET-UBA\n",
    "\n",
    "#Creo un \"key\" para que global lea los archivos de forma ordenada\n",
    "import re\n",
    "numbers = re.compile(r'(\\d+)')\n",
    "def numericalSort(value):\n",
    "    parts = numbers.split(value)\n",
    "    parts[1::2] = map(int, parts[1::2])\n",
    "    return parts\n",
    "\n",
    "\n",
    "zmin=0\n",
    "zmax=260\n",
    "rnge=zmax-zmin\n",
    "print('range=',rnge,'micrómetros') #Este es el rango que recorrió el microscopio con los stacks.\n",
    "\n",
    "directorio='cinta_2_zstack_b.tif.frames' #El directorio donde voy a leer los tifs.\n",
    "\n",
    "i=0\n",
    "for filename in glob('/home/enzo/Desktop/Confocal/'+directorio+'/*.tif'):\n",
    "    i=i+1 #Contamos los tifs para saber cuantos stacks hay en el rango total\n",
    "          #y definir un dz.\n",
    "        \n",
    "dz=(rnge/(i-1))\n",
    "print('dz=',dz,'micrómetros','en ',i,'stacks')\n",
    "\n",
    "z_val = []\n",
    "num_fig=i #Numero total de figuras tif.\n",
    "for j in range(0,num_fig):\n",
    "    t = j*dz #Paso z(i), con z(i+1)-z(i)=dz (grilla uniforme)\n",
    "    z_val.append(t) #Guardo los valores de z(i).\n",
    "\n",
    "z_val = np.asarray(z_val)  \n",
    "    \n",
    "int_val = [] #Valores de intensidad.\n",
    "int_err = [] #Valores del error (desviación estandar).\n",
    "\n",
    "#Abrimos cada figura. El key es el que definí arriba, y los va a leer de forma ordenada numéricamente.\n",
    "for filename in sorted(glob('/home/enzo/Desktop/Confocal/'+directorio+'/*.tif'), key=numericalSort):\n",
    "#    print(filename) #esto es para probar que lea ordenado.\n",
    "    im = Image.open(filename) #Abro la imagen.\n",
    "    imarray = np.array(im)    #Convierto la imagen en un array.\n",
    "    t=np.mean(imarray)        #El valor medio del array (valor de intensidad).\n",
    "    dt=np.std(imarray)        #La desviación estandar del array (margen de error de la intensidad).\n",
    "    int_val.append(t)         #Guardo el valor medio en el vector int_val.\n",
    "    int_err.append(dt)        #Guardo la desviación estándar en el array int_err.\n",
    "    \n",
    "    \n",
    "    \n",
    "int_val = np.asarray(int_val) \n",
    "int_err = np.asarray(int_err) "
   ]
  },
  {
   "cell_type": "code",
   "execution_count": 5,
   "id": "b4f5db56",
   "metadata": {},
   "outputs": [
    {
     "data": {
      "image/png": "[encoded data removed]",
      "text/plain": [
       "<Figure size 640x480 with 1 Axes>"
      ]
     },
     "metadata": {},
     "output_type": "display_data"
    }
   ],
   "source": [
    " fig, ax = plt.subplots()\n",
    "\n",
    "\n",
    "ax.errorbar(z_val, int_val,\n",
    "            xerr=1, #Tomo el error en z como 1um.\n",
    "            yerr=int_err, #El error en la intensidad es la desviación estándar.\n",
    "            fmt='o')\n",
    "\n",
    "\n",
    "ax.set_xlabel('z [\\u03BCm]')\n",
    "ax.set_ylabel('Intensity')\n",
    "ax.set_title('   ')\n",
    "\n",
    "\n",
    "#plt.show()\n",
    "plt.savefig(directorio+'.eps')"
   ]
  },
  {
   "cell_type": "code",
   "execution_count": 6,
   "id": "b392ff24",
   "metadata": {},
   "outputs": [
    {
     "data": {
      "text/plain": [
       "88"
      ]
     },
     "execution_count": 6,
     "metadata": {},
     "output_type": "execute_result"
    }
   ],
   "source": [
    "int_err.size"
   ]
  },
  {
   "cell_type": "code",
   "execution_count": null,
   "id": "5548fa70",
   "metadata": {},
   "outputs": [],
   "source": []
  }
 ],
 "metadata": {
  "kernelspec": {
   "display_name": "Python 3 (ipykernel)",
   "language": "python",
   "name": "python3"
  },
  "language_info": {
   "codemirror_mode": {
    "name": "ipython",
    "version": 3
   },
   "file_extension": ".py",
   "mimetype": "text/x-python",
   "name": "python",
   "nbconvert_exporter": "python",
   "pygments_lexer": "ipython3",
   "version": "3.9.13"
  }
 },
 "nbformat": 4,
 "nbformat_minor": 5
}
